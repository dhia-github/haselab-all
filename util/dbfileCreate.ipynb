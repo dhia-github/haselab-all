{
 "cells": [
  {
   "cell_type": "code",
   "execution_count": null,
   "id": "ac3df0a0",
   "metadata": {},
   "outputs": [],
   "source": [
    "import mlflow\n",
    "import sqlite3\n",
    "import os\n",
    "\n",
    "# DB_PATH= 'トラッキングサーバのパス/mlruns.db'\n",
    "DB_PATH= '/util/trackingServer/mlruns.db'\n",
    "os.makedirs(os.path.dirname(DB_PATH), exist_ok=True)  # 親ディレクトリなければ作成\n",
    "conn = sqlite3.connect(DB_PATH)  # バックエンド用DBを作成"
   ]
  }
 ],
 "metadata": {
  "language_info": {
   "name": "python"
  }
 },
 "nbformat": 4,
 "nbformat_minor": 5
}
